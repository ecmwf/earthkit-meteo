{
 "cells": [
  {
   "cell_type": "markdown",
   "id": "052b127a-ddca-42e1-be14-e9e4e42a9554",
   "metadata": {},
   "source": [
    "### High level methods"
   ]
  },
  {
   "cell_type": "code",
   "execution_count": 1,
   "id": "3d2664f6-b41f-4a84-bbab-a4e0b56109d0",
   "metadata": {},
   "outputs": [],
   "source": [
    "import earthkit.data\n",
    "from earthkit.data.wrappers.ndarray import NumpyNDArrayWrapper\n",
    "from earthkit.meteo import solar\n",
    "\n",
    "import numpy as np\n",
    "\n",
    "class Accessor:\n",
    "    def __init__(self, name, data):\n",
    "        self.name = name\n",
    "        self.data = data\n",
    "\n",
    "    @staticmethod\n",
    "    def make(name, data):\n",
    "        a = accessors.get(name, None)\n",
    "        if a is None:\n",
    "            a = ParamAccessor\n",
    "\n",
    "        return a(name, data)\n",
    "\n",
    "    def is_numpy(self):\n",
    "        return isinstance(self.data, NumpyNDArrayWrapper)\n",
    "    \n",
    "class DateAccessor(Accessor):\n",
    "    def get(self):\n",
    "        return self.data.metadata(\"valid_datetime\")\n",
    "        \n",
    "        \n",
    "class LatAccessor(Accessor):\n",
    "    def get(self):               \n",
    "        if self.is_numpy():\n",
    "            return self.data.to_numpy()\n",
    "        return self.data.to_latlon()[\"lat\"]\n",
    "\n",
    "class LonAccessor(Accessor):\n",
    "    def get(self):\n",
    "        if self.is_numpy():\n",
    "            return self.data.to_numpy()\n",
    "        return self.data.to_latlon()[\"lon\"]\n",
    "\n",
    "class ParamAccessor(Accessor):\n",
    "    def get(self):\n",
    "        if self.is_numpy():\n",
    "            return self.data.to_numpy()\n",
    "        return self.data.sel(param=self.name).to_numpy()\n",
    "\n",
    "\n",
    "class PressureAccessor(Accessor):\n",
    "    def get(self):\n",
    "        if self.is_numpy():\n",
    "            return self.data.to_numpy()\n",
    "        return np.asarray(self.data.metadata(\"level\"))*100.\n",
    "    \n",
    "\n",
    "accessors = {\"latitude\": LatAccessor, \"longitude\": LonAccessor, \n",
    "             \"date\": DateAccessor, \"p\": PressureAccessor}\n",
    "\n",
    "def param_args(*argX):\n",
    "    def inner_decorator(func):\n",
    "        def wrapped(*args, **kwargs):\n",
    "            m_args = []\n",
    "            for x in argX:\n",
    "                if isinstance(x, list):\n",
    "                    m_args.extend(x)\n",
    "                else:\n",
    "                    m_args.append(x)\n",
    "             \n",
    "            params = []\n",
    "\n",
    "            w = None\n",
    "            for i, x in enumerate(m_args):\n",
    "                if x is None:\n",
    "                    a = args[i]\n",
    "                else:\n",
    "                    if w is None:\n",
    "                        w = args[i] \n",
    "                        w = earthkit.data.from_object(w)\n",
    "                    ac = Accessor.make(x, w)\n",
    "                    a = ac.get()\n",
    "                params.append(a)\n",
    "\n",
    "            #print(f\"{params=}\")\n",
    "            return func(*params, *kwargs)\n",
    "            \n",
    "        return wrapped\n",
    "    return inner_decorator"
   ]
  },
  {
   "cell_type": "code",
   "execution_count": 2,
   "id": "965af1fc-718f-4606-b01a-1d5bd4791073",
   "metadata": {},
   "outputs": [],
   "source": [
    "earthkit.data.download_example_file(\"tuv_pl.grib\")\n",
    "ds = earthkit.data.from_source(\"file\", \"tuv_pl.grib\")"
   ]
  },
  {
   "cell_type": "markdown",
   "id": "ed2639b1-0632-4c33-8ce3-c4bb0df93cad",
   "metadata": {},
   "source": [
    "### cos_solar_zenith_angle"
   ]
  },
  {
   "cell_type": "markdown",
   "id": "c1dc9367-cbdd-40f5-a46f-a0364fc1db16",
   "metadata": {},
   "source": [
    "The array version of **solar.cos_solar_zenith_angle** is defined as follows:\n",
    "\n",
    "  def cos_solar_zenith_angle(date, latitudes, longitudes)"
   ]
  },
  {
   "cell_type": "code",
   "execution_count": 3,
   "id": "84d7fb4f-5f7f-4411-bd51-f2a2ca5f9755",
   "metadata": {},
   "outputs": [],
   "source": [
    "# The high level version\n",
    "@param_args(\"date\", \"latitude\", \"longitude\") \n",
    "def cos_solar_zenith_angle(*args, **kwargs):\n",
    "    res = solar.cos_solar_zenith_angle(*args, **kwargs)\n",
    "    return res"
   ]
  },
  {
   "cell_type": "code",
   "execution_count": 4,
   "id": "edc68414-096c-4f60-bf15-ba8f06796d60",
   "metadata": {},
   "outputs": [
    {
     "data": {
      "text/plain": [
       "(datetime.datetime(2018, 8, 1, 12, 0), 90.0, 0.0)"
      ]
     },
     "execution_count": 4,
     "metadata": {},
     "output_type": "execute_result"
    }
   ],
   "source": [
    "# get input values from first field\n",
    "dv = ds[0].metadata(\"valid_datetime\")\n",
    "latv = ds[0].to_latlon(flatten=True)[\"lat\"][0]\n",
    "lonv = ds[0].to_latlon(flatten=True)[\"lon\"][0]\n",
    "dv, latv, lonv"
   ]
  },
  {
   "cell_type": "code",
   "execution_count": 5,
   "id": "6e0e7632-3b61-4ea9-8ae6-a2eea3d3f053",
   "metadata": {},
   "outputs": [
    {
     "data": {
      "text/plain": [
       "0.3112577791163394"
      ]
     },
     "execution_count": 5,
     "metadata": {},
     "output_type": "execute_result"
    }
   ],
   "source": [
    "# call array version with numbers to get reference\n",
    "solar.cos_solar_zenith_angle(dv, latv, lonv)"
   ]
  },
  {
   "cell_type": "code",
   "execution_count": 6,
   "id": "95ce258b-c92b-44ef-ba95-80f0cb0cd921",
   "metadata": {},
   "outputs": [],
   "source": [
    "# calls high level version with a field\n",
    "res = cos_solar_zenith_angle(ds[0])"
   ]
  },
  {
   "cell_type": "code",
   "execution_count": 7,
   "id": "f12ee48d-697b-48f3-9112-c452dc4fa000",
   "metadata": {},
   "outputs": [
    {
     "data": {
      "text/plain": [
       "(7, 12)"
      ]
     },
     "execution_count": 7,
     "metadata": {},
     "output_type": "execute_result"
    }
   ],
   "source": [
    "res.shape"
   ]
  },
  {
   "cell_type": "code",
   "execution_count": 8,
   "id": "e0321853-666e-469b-be70-6aaec3d4c260",
   "metadata": {},
   "outputs": [
    {
     "data": {
      "text/plain": [
       "0.3112577791163394"
      ]
     },
     "execution_count": 8,
     "metadata": {},
     "output_type": "execute_result"
    }
   ],
   "source": [
    "res[0, 0]"
   ]
  },
  {
   "cell_type": "markdown",
   "id": "2456c3c4-e62c-4e20-89b3-d1e33469cdf6",
   "metadata": {},
   "source": [
    "### potential_temperature"
   ]
  },
  {
   "cell_type": "markdown",
   "id": "4686c2ed-789e-4c3b-9f72-23eba424b32b",
   "metadata": {},
   "source": [
    "This method is not yet adedd to earthkit meteo so we use a local version."
   ]
  },
  {
   "cell_type": "code",
   "execution_count": 9,
   "id": "c8170161-975e-4ba7-96c3-3124028976bd",
   "metadata": {},
   "outputs": [],
   "source": [
    "# the array version\n",
    "def _potential_temperature(t, p):\n",
    "    # t: temperature in K\n",
    "    # p: pressure in Pa\n",
    "    return t*(100000./p)**0.285611"
   ]
  },
  {
   "cell_type": "markdown",
   "id": "6f9e1891-9510-4b79-86c9-6b1a04e43e13",
   "metadata": {},
   "source": [
    "The main problem in writing the decorator is that \"p\" should be only extracted to for the fields containing \"t\". This very simple syntax is not able to do that. Calling this method with the example fieldlist fails, since there are 6 \"t\" fields but 18 pressure level fields (so 18 pressures) in total."
   ]
  },
  {
   "cell_type": "code",
   "execution_count": 10,
   "id": "9c8094a4-5ebb-4171-abc4-e972ce8f29be",
   "metadata": {},
   "outputs": [],
   "source": [
    "@param_args(\"t\", \"p\") \n",
    "def potential_temperature(*args, **kwargs):\n",
    "    res = _potential_temperature(*args, **kwargs)\n",
    "    return res"
   ]
  },
  {
   "cell_type": "code",
   "execution_count": 11,
   "id": "54a8e6ba-788c-4919-a3c3-a4848e2d9f1f",
   "metadata": {},
   "outputs": [
    {
     "data": {
      "text/plain": [
       "276.54299249939953"
      ]
     },
     "execution_count": 11,
     "metadata": {},
     "output_type": "execute_result"
    }
   ],
   "source": [
    "# call array version with numbers to get reference\n",
    "_potential_temperature(264., 85000.)"
   ]
  },
  {
   "cell_type": "code",
   "execution_count": 12,
   "id": "39850345-011d-4299-b26e-f34d6b1516eb",
   "metadata": {},
   "outputs": [
    {
     "ename": "ValueError",
     "evalue": "operands could not be broadcast together with shapes (6,7,12) (18,) ",
     "output_type": "error",
     "traceback": [
      "\u001b[0;31m---------------------------------------------------------------------------\u001b[0m",
      "\u001b[0;31mValueError\u001b[0m                                Traceback (most recent call last)",
      "Cell \u001b[0;32mIn[12], line 2\u001b[0m\n\u001b[1;32m      1\u001b[0m \u001b[38;5;66;03m# calls high level version with a field\u001b[39;00m\n\u001b[0;32m----> 2\u001b[0m res \u001b[38;5;241m=\u001b[39m \u001b[43mpotential_temperature\u001b[49m\u001b[43m(\u001b[49m\u001b[43mds\u001b[49m\u001b[43m)\u001b[49m\n",
      "Cell \u001b[0;32mIn[1], line 82\u001b[0m, in \u001b[0;36mparam_args.<locals>.inner_decorator.<locals>.wrapped\u001b[0;34m(*args, **kwargs)\u001b[0m\n\u001b[1;32m     79\u001b[0m     params\u001b[38;5;241m.\u001b[39mappend(a)\n\u001b[1;32m     81\u001b[0m \u001b[38;5;66;03m#print(f\"{params=}\")\u001b[39;00m\n\u001b[0;32m---> 82\u001b[0m \u001b[38;5;28;01mreturn\u001b[39;00m \u001b[43mfunc\u001b[49m\u001b[43m(\u001b[49m\u001b[38;5;241;43m*\u001b[39;49m\u001b[43mparams\u001b[49m\u001b[43m,\u001b[49m\u001b[43m \u001b[49m\u001b[38;5;241;43m*\u001b[39;49m\u001b[43mkwargs\u001b[49m\u001b[43m)\u001b[49m\n",
      "Cell \u001b[0;32mIn[10], line 3\u001b[0m, in \u001b[0;36mpotential_temperature\u001b[0;34m(*args, **kwargs)\u001b[0m\n\u001b[1;32m      1\u001b[0m \u001b[38;5;129m@param_args\u001b[39m(\u001b[38;5;124m\"\u001b[39m\u001b[38;5;124mt\u001b[39m\u001b[38;5;124m\"\u001b[39m, \u001b[38;5;124m\"\u001b[39m\u001b[38;5;124mp\u001b[39m\u001b[38;5;124m\"\u001b[39m) \n\u001b[1;32m      2\u001b[0m \u001b[38;5;28;01mdef\u001b[39;00m \u001b[38;5;21mpotential_temperature\u001b[39m(\u001b[38;5;241m*\u001b[39margs, \u001b[38;5;241m*\u001b[39m\u001b[38;5;241m*\u001b[39mkwargs):\n\u001b[0;32m----> 3\u001b[0m     res \u001b[38;5;241m=\u001b[39m \u001b[43m_potential_temperature\u001b[49m\u001b[43m(\u001b[49m\u001b[38;5;241;43m*\u001b[39;49m\u001b[43margs\u001b[49m\u001b[43m,\u001b[49m\u001b[43m \u001b[49m\u001b[38;5;241;43m*\u001b[39;49m\u001b[38;5;241;43m*\u001b[39;49m\u001b[43mkwargs\u001b[49m\u001b[43m)\u001b[49m\n\u001b[1;32m      4\u001b[0m     \u001b[38;5;28;01mreturn\u001b[39;00m res\n",
      "Cell \u001b[0;32mIn[9], line 5\u001b[0m, in \u001b[0;36m_potential_temperature\u001b[0;34m(t, p)\u001b[0m\n\u001b[1;32m      2\u001b[0m \u001b[38;5;28;01mdef\u001b[39;00m \u001b[38;5;21m_potential_temperature\u001b[39m(t, p):\n\u001b[1;32m      3\u001b[0m     \u001b[38;5;66;03m# t: temperature in K\u001b[39;00m\n\u001b[1;32m      4\u001b[0m     \u001b[38;5;66;03m# p: pressure in Pa\u001b[39;00m\n\u001b[0;32m----> 5\u001b[0m     \u001b[38;5;28;01mreturn\u001b[39;00m \u001b[43mt\u001b[49m\u001b[38;5;241;43m*\u001b[39;49m\u001b[43m(\u001b[49m\u001b[38;5;241;43m100000.\u001b[39;49m\u001b[38;5;241;43m/\u001b[39;49m\u001b[43mp\u001b[49m\u001b[43m)\u001b[49m\u001b[38;5;241;43m*\u001b[39;49m\u001b[38;5;241;43m*\u001b[39;49m\u001b[38;5;241;43m0.285611\u001b[39;49m\n",
      "\u001b[0;31mValueError\u001b[0m: operands could not be broadcast together with shapes (6,7,12) (18,) "
     ]
    }
   ],
   "source": [
    "# calls high level version with a field\n",
    "res = potential_temperature(ds)"
   ]
  },
  {
   "cell_type": "code",
   "execution_count": null,
   "id": "e58d671a-6ce6-4c1d-96f9-9dcf21004b6d",
   "metadata": {},
   "outputs": [],
   "source": []
  }
 ],
 "metadata": {
  "kernelspec": {
   "display_name": "dev",
   "language": "python",
   "name": "dev"
  },
  "language_info": {
   "codemirror_mode": {
    "name": "ipython",
    "version": 3
   },
   "file_extension": ".py",
   "mimetype": "text/x-python",
   "name": "python",
   "nbconvert_exporter": "python",
   "pygments_lexer": "ipython3",
   "version": "3.10.13"
  }
 },
 "nbformat": 4,
 "nbformat_minor": 5
}
