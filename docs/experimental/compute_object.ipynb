{
 "cells": [
  {
   "cell_type": "markdown",
   "id": "052b127a-ddca-42e1-be14-e9e4e42a9554",
   "metadata": {},
   "source": [
    "### High level methods"
   ]
  },
  {
   "cell_type": "code",
   "execution_count": 1,
   "id": "3d2664f6-b41f-4a84-bbab-a4e0b56109d0",
   "metadata": {},
   "outputs": [],
   "source": [
    "import earthkit.data\n",
    "from earthkit.data.wrappers.ndarray import NumpyNDArrayWrapper\n",
    "from earthkit.meteo import solar\n",
    "\n",
    "import numpy as np\n",
    "\n",
    "class Accessor:\n",
    "    def __init__(self, name, data):\n",
    "        self.name = name\n",
    "        self.data = data\n",
    "\n",
    "    @staticmethod\n",
    "    def make(name, data):\n",
    "        a = accessors.get(name, None)\n",
    "        if a is None:\n",
    "            a = ParamAccesor\n",
    "\n",
    "        return a(name, data)\n",
    "\n",
    "    def is_numpy(self):\n",
    "        return isinstance(self.data, NumpyNDArrayWrapper)\n",
    "    \n",
    "class DateAccessor(Accessor):\n",
    "    def get(self):\n",
    "        return self.data.metadata(\"valid_datetime\")\n",
    "        \n",
    "        \n",
    "class LatAccessor(Accessor):\n",
    "    def get(self):               \n",
    "        if self.is_numpy():\n",
    "            return self.data.to_numpy()\n",
    "        return self.data.to_latlon()[\"lat\"]\n",
    "\n",
    "class LonAccessor(Accessor):\n",
    "    def get(self):\n",
    "        if self.is_numpy():\n",
    "            return self.data.to_numpy()\n",
    "        return self.data.to_latlon()[\"lon\"]\n",
    "        \n",
    "class ParamAccessor(Accessor):\n",
    "    def get(self):\n",
    "        if self.is_numpy():\n",
    "            return self.data.to_numpy()\n",
    "        return self.data.sel(param=self.name).to_numpy()\n",
    "    \n",
    "\n",
    "accessors = {\"latitude\": LatAccessor, \"longitude\": LonAccessor, \"date\": DateAccessor}\n",
    "\n",
    "def param_args(*argX):\n",
    "    def inner_decorator(func):\n",
    "        def wrapped(*args, **kwargs):\n",
    "            m_args = []\n",
    "            for x in argX:\n",
    "                if isinstance(x, list):\n",
    "                    m_args.extend(x)\n",
    "                else:\n",
    "                    m_args.append(x)\n",
    "             \n",
    "            params = []\n",
    "\n",
    "            w = None\n",
    "            for i, x in enumerate(m_args):\n",
    "                if x is None:\n",
    "                    a = args[i]\n",
    "                else:\n",
    "                    if w is None:\n",
    "                        w = args[i] \n",
    "                        w = earthkit.data.from_object(w)\n",
    "                    ac = Accessor.make(x, w)\n",
    "                    a = ac.get()\n",
    "                params.append(a)\n",
    "\n",
    "            #print(f\"{params=}\")\n",
    "            return func(*params, *kwargs)\n",
    "            \n",
    "        return wrapped\n",
    "    return inner_decorator"
   ]
  },
  {
   "cell_type": "code",
   "execution_count": 2,
   "id": "965af1fc-718f-4606-b01a-1d5bd4791073",
   "metadata": {},
   "outputs": [],
   "source": [
    "earthkit.data.download_example_file(\"tuv_pl.grib\")\n",
    "ds = earthkit.data.from_source(\"file\", \"tuv_pl.grib\")"
   ]
  },
  {
   "cell_type": "markdown",
   "id": "c1dc9367-cbdd-40f5-a46f-a0364fc1db16",
   "metadata": {},
   "source": [
    "The array version of **solar.cos_solar_zenith_angle** is defined as follows:\n",
    "\n",
    "  def cos_solar_zenith_angle(date, latitudes, longitudes)"
   ]
  },
  {
   "cell_type": "code",
   "execution_count": 3,
   "id": "84d7fb4f-5f7f-4411-bd51-f2a2ca5f9755",
   "metadata": {},
   "outputs": [],
   "source": [
    "# The high level version\n",
    "@param_args(\"date\", \"latitude\", \"longitude\") \n",
    "def cos_solar_zenith_angle(*args, **kwargs):\n",
    "    res = solar.cos_solar_zenith_angle(*args, **kwargs)\n",
    "    return res"
   ]
  },
  {
   "cell_type": "code",
   "execution_count": 4,
   "id": "edc68414-096c-4f60-bf15-ba8f06796d60",
   "metadata": {},
   "outputs": [
    {
     "data": {
      "text/plain": [
       "(datetime.datetime(2018, 8, 1, 12, 0), 90.0, 0.0)"
      ]
     },
     "execution_count": 4,
     "metadata": {},
     "output_type": "execute_result"
    }
   ],
   "source": [
    "# get input values from first field\n",
    "dv = ds[0].metadata(\"valid_datetime\")\n",
    "latv = ds[0].to_latlon(flatten=True)[\"lat\"][0]\n",
    "lonv = ds[0].to_latlon(flatten=True)[\"lon\"][0]\n",
    "dv, latv, lonv"
   ]
  },
  {
   "cell_type": "code",
   "execution_count": 5,
   "id": "6e0e7632-3b61-4ea9-8ae6-a2eea3d3f053",
   "metadata": {},
   "outputs": [
    {
     "data": {
      "text/plain": [
       "0.3112577791163394"
      ]
     },
     "execution_count": 5,
     "metadata": {},
     "output_type": "execute_result"
    }
   ],
   "source": [
    "# call array version with numbers to get reference\n",
    "solar.cos_solar_zenith_angle(dv, latv, lonv)"
   ]
  },
  {
   "cell_type": "code",
   "execution_count": 10,
   "id": "95ce258b-c92b-44ef-ba95-80f0cb0cd921",
   "metadata": {},
   "outputs": [],
   "source": [
    "# calls high level version with a field\n",
    "res = cos_solar_zenith_angle(ds[0])"
   ]
  },
  {
   "cell_type": "code",
   "execution_count": 7,
   "id": "f12ee48d-697b-48f3-9112-c452dc4fa000",
   "metadata": {},
   "outputs": [
    {
     "data": {
      "text/plain": [
       "(7, 12)"
      ]
     },
     "execution_count": 7,
     "metadata": {},
     "output_type": "execute_result"
    }
   ],
   "source": [
    "res.shape"
   ]
  },
  {
   "cell_type": "code",
   "execution_count": 8,
   "id": "e0321853-666e-469b-be70-6aaec3d4c260",
   "metadata": {},
   "outputs": [
    {
     "data": {
      "text/plain": [
       "0.3112577791163394"
      ]
     },
     "execution_count": 8,
     "metadata": {},
     "output_type": "execute_result"
    }
   ],
   "source": [
    "res[0, 0]"
   ]
  },
  {
   "cell_type": "code",
   "execution_count": 9,
   "id": "6d5d3f1e-ef21-480f-9ecc-4b068e55b48d",
   "metadata": {},
   "outputs": [],
   "source": [
    "# @param_args(None, None, \"latitude\", \"longitude\")\n",
    "# def cos_solar_zenith_angle_integrated(*args, *kwargs)\n",
    "#     return solar.cos_solar_zenith_angle(*args, *kwargs)\n",
    "\n",
    "# a = cos_solar_zenith_angle_integrated(d1, d2, ds[0])\n",
    "    "
   ]
  },
  {
   "cell_type": "code",
   "execution_count": null,
   "id": "9c8094a4-5ebb-4171-abc4-e972ce8f29be",
   "metadata": {},
   "outputs": [],
   "source": []
  }
 ],
 "metadata": {
  "kernelspec": {
   "display_name": "dev",
   "language": "python",
   "name": "dev"
  },
  "language_info": {
   "codemirror_mode": {
    "name": "ipython",
    "version": 3
   },
   "file_extension": ".py",
   "mimetype": "text/x-python",
   "name": "python",
   "nbconvert_exporter": "python",
   "pygments_lexer": "ipython3",
   "version": "3.10.13"
  }
 },
 "nbformat": 4,
 "nbformat_minor": 5
}
